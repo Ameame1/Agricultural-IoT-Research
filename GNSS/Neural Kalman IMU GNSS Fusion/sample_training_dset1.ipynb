{
 "cells": [
  {
   "cell_type": "code",
   "execution_count": 1,
   "id": "geographic-postage",
   "metadata": {},
   "outputs": [
    {
     "name": "stdout",
     "output_type": "stream",
     "text": [
      "Device mapping:\n",
      "/job:localhost/replica:0/task:0/device:GPU:0 -> device: 0, name: NVIDIA GeForce RTX 3090, pci bus id: 0000:21:00.0, compute capability: 8.6\n",
      "\n"
     ]
    }
   ],
   "source": [
    "import os\n",
    "import warnings\n",
    "warnings.filterwarnings('ignore')\n",
    "os.environ['TF_CPP_MIN_LOG_LEVEL'] = '3'\n",
    "os.environ[\"CUDA_DEVICE_ORDER\"] = \"PCI_BUS_ID\"\n",
    "os.environ[\"CUDA_VISIBLE_DEVICES\"]=\"1\"\n",
    "import pandas as pd\n",
    "import numpy as np\n",
    "from gtda.time_series import SlidingWindow\n",
    "import matplotlib.pyplot as plt\n",
    "from math import atan2, pi, sqrt, cos, sin, floor\n",
    "import tensorflow as tf\n",
    "from tensorflow.python.keras.backend import set_session\n",
    "config = tf.compat.v1.ConfigProto() \n",
    "config.gpu_options.allow_growth = True  \n",
    "config.log_device_placement = True  \n",
    "sess2 = tf.compat.v1.Session(config=config)\n",
    "set_session(sess2)  \n",
    "from tensorflow.keras.layers import Dense, MaxPooling1D, Flatten\n",
    "from tensorflow.keras import Input, Model\n",
    "from tensorflow.keras.callbacks import ModelCheckpoint\n",
    "import tensorflow.compat.v1.keras.backend as K\n",
    "from tensorflow.keras.models import load_model\n",
    "from tcn import TCN, tcn_full_summary\n",
    "from sklearn.metrics import mean_squared_error\n",
    "from scipy.stats import uniform\n",
    "from keras_flops import get_flops\n",
    "import pickle\n",
    "import csv\n",
    "import random\n",
    "import itertools\n",
    "import math\n",
    "import time\n",
    "from dataset1.data_utils_1 import *\n",
    "from traj_utils import *"
   ]
  },
  {
   "cell_type": "markdown",
   "id": "02b36417",
   "metadata": {},
   "source": [
    "## Import Dataset"
   ]
  },
  {
   "cell_type": "code",
   "execution_count": null,
   "id": "preceding-parker",
   "metadata": {},
   "outputs": [],
   "source": [
    "window_size = 100\n",
    "stride = 20\n",
    "\n",
    "f = 'dataset1/'\n",
    "X_train,Y_Pos_train, GPS_train, GPS_xy_train, Physics_Vec_train, x_vel_train, y_vel_train, x0_list_train, y0_list_train, size_of_each_train = import_agrobot_dataset_p2(dataset_folder=f, type_flag=1, window_size=window_size, stride=stride)\n",
    "P = np.repeat(Physics_Vec_train,window_size).reshape((Physics_Vec_train.shape[0],window_size,1))\n",
    "X_train = np.concatenate((X_train,P),axis=2)\n",
    "\n",
    "X_test,Y_Pos_test, GPS_train, GPS_xy_train, Physics_Vec_test, x_vel_test, y_vel_test, x0_list_test, y0_list_test, size_of_each_test= import_agrobot_dataset_p2(type_flag = 2, dataset_folder=f,window_size=window_size, stride=stride)\n",
    "P_test = np.repeat(Physics_Vec_test,window_size).reshape((Physics_Vec_test.shape[0],window_size,1))\n",
    "X_test = np.concatenate((X_test,P_test),axis=2)"
   ]
  },
  {
   "cell_type": "markdown",
   "id": "674183af",
   "metadata": {},
   "source": [
    "## Model Training"
   ]
  },
  {
   "cell_type": "code",
   "execution_count": null,
   "id": "satisfied-sunrise",
   "metadata": {},
   "outputs": [],
   "source": [
    "nb_filters = 32\n",
    "kernel_size = 5\n",
    "dilations = [1,2,4,8,16,32,64,128]\n",
    "dropout_rate = 0.0\n",
    "use_skip_connections = True\n",
    "\n",
    "batch_size, timesteps, input_dim = 256, window_size, X_train.shape[2]\n",
    "i = Input(shape=(timesteps, input_dim))\n",
    "\n",
    "m = TCN(nb_filters=nb_filters,kernel_size=kernel_size,dilations=dilations,dropout_rate=dropout_rate,\n",
    "            use_skip_connections=use_skip_connections)(i)  \n",
    "\n",
    "m = tf.reshape(m, [-1, nb_filters, 1])\n",
    "m = MaxPooling1D(pool_size=(2))(m)\n",
    "m = Flatten()(m)\n",
    "m = Dense(32, activation='linear', name='pre')(m)\n",
    "output1 = Dense(1, activation='linear', name='velx')(m)\n",
    "output2 = Dense(1, activation='linear', name='vely')(m)\n",
    "model = Model(inputs=[i], outputs=[output1, output2])\n",
    "opt = tf.keras.optimizers.Adam()\n",
    "model.compile(loss={'velx': 'mse','vely':'mse'},optimizer=opt)  \n",
    "model.summary()"
   ]
  },
  {
   "cell_type": "code",
   "execution_count": null,
   "id": "ranging-bridal",
   "metadata": {},
   "outputs": [],
   "source": [
    "model_name = 'Agrobot_Second_TCN.hdf5'\n",
    "checkpoint = ModelCheckpoint(model_name, monitor='loss', verbose=1, save_best_only=True)\n",
    "model.fit(x=X_train, y=[x_vel_train, y_vel_train],epochs=3000, shuffle=True,callbacks=[checkpoint],batch_size=batch_size)     "
   ]
  },
  {
   "cell_type": "markdown",
   "id": "4eb7d782",
   "metadata": {},
   "source": [
    "## Evaluate Model"
   ]
  },
  {
   "cell_type": "code",
   "execution_count": null,
   "id": "tamil-style",
   "metadata": {},
   "outputs": [],
   "source": [
    "#model_name = 'Agrobot_Second_TCN.hdf5'\n",
    "model = load_model(model_name,custom_objects={'TCN':TCN})"
   ]
  },
  {
   "cell_type": "markdown",
   "id": "45440d3e",
   "metadata": {},
   "source": [
    "Unseen trajectory"
   ]
  },
  {
   "cell_type": "code",
   "execution_count": null,
   "id": "agreed-booking",
   "metadata": {},
   "outputs": [],
   "source": [
    "ATE = []\n",
    "RTE = []\n",
    "ATE_dist = []\n",
    "RTE_dist = []\n",
    "for i in range(len(size_of_each_test)):\n",
    "    Pvx, Pvy = model_pos_generator(X_test, size_of_each_test, \n",
    "                   x0_list_test, y0_list_test, window_size, stride,i,model)   \n",
    "    Gvx, Gvy = GT_pos_generator(x_vel_test,y_vel_test,size_of_each_test,\n",
    "                                x0_list_test, y0_list_test, window_size, stride,i)\n",
    "    \n",
    "    at, rt, at_all, rt_all = Cal_TE(Gvx, Gvy, Pvx, Pvy,\n",
    "                                    sampling_rate=100,window_size=window_size,stride=stride)\n",
    "    ATE.append(at)\n",
    "    RTE.append(rt)\n",
    "    ATE_dist.append(Cal_len_meters(Gvx, Gvy))\n",
    "    RTE_dist.append(Cal_len_meters(Gvx, Gvy, 600))\n",
    "    print('ATE, RTE, Trajectory Length, Trajectory Length (60 seconds)',ATE[i],RTE[i],ATE_dist[i],RTE_dist[i])\n",
    "    \n",
    "print('Median ATE and RTE', np.median(ATE),np.median(RTE))\n",
    "print('Mean ATE and RTE', np.mean(ATE),np.mean(RTE))\n",
    "print('STD ATE and RTE', np.std(ATE),np.std(RTE))"
   ]
  },
  {
   "cell_type": "markdown",
   "id": "d0a04abe",
   "metadata": {},
   "source": [
    "Seen Trajectory"
   ]
  },
  {
   "cell_type": "code",
   "execution_count": null,
   "id": "f039f9ae",
   "metadata": {},
   "outputs": [],
   "source": [
    "ATE = []\n",
    "RTE = []\n",
    "ATE_dist = []\n",
    "RTE_dist = []\n",
    "for i in range(len(size_of_each_train)):\n",
    "    Pvx, Pvy = model_pos_generator(X_train, size_of_each_train, \n",
    "                   x0_list_train, y0_list_train, window_size, stride,i,model)   \n",
    "    Gvx, Gvy = GT_pos_generator(x_vel_train,y_vel_train,size_of_each_train,\n",
    "                                x0_list_train, y0_list_train, window_size, stride,i)\n",
    "    \n",
    "    at, rt, at_all, rt_all = Cal_TE(Gvx, Gvy, Pvx, Pvy,\n",
    "                                    sampling_rate=100,window_size=window_size,stride=stride)\n",
    "    ATE.append(at)\n",
    "    RTE.append(rt)\n",
    "    ATE_dist.append(Cal_len_meters(Gvx, Gvy))\n",
    "    RTE_dist.append(Cal_len_meters(Gvx, Gvy, 600))\n",
    "    print('ATE, RTE, Trajectory Length, Trajectory Length (60 seconds)',ATE[i],RTE[i],ATE_dist[i],RTE_dist[i])\n",
    "    \n",
    "print('Median ATE and RTE', np.median(ATE),np.median(RTE))\n",
    "print('Mean ATE and RTE', np.mean(ATE),np.mean(RTE))\n",
    "print('STD ATE and RTE', np.std(ATE),np.std(RTE))"
   ]
  },
  {
   "cell_type": "markdown",
   "id": "f08e7bca",
   "metadata": {},
   "source": [
    "Plots"
   ]
  },
  {
   "cell_type": "code",
   "execution_count": null,
   "id": "complimentary-portable",
   "metadata": {},
   "outputs": [],
   "source": [
    "Pvx, Pvy = model_pos_generator(X_train, size_of_each_train, \n",
    "               x0_list_train, y0_list_train, window_size, stride,0,model)   \n",
    "Gvx, Gvy = GT_pos_generator(x_vel_train,y_vel_train,size_of_each_train,\n",
    "                            x0_list_train, y0_list_train, window_size, stride,0)"
   ]
  },
  {
   "cell_type": "code",
   "execution_count": null,
   "id": "05a60030",
   "metadata": {},
   "outputs": [],
   "source": [
    "plt.plot(Gvx[0:2000],Gvy[0:2000])\n",
    "plt.plot(Pvx[0:2000],Pvy[0:2000])"
   ]
  },
  {
   "cell_type": "code",
   "execution_count": null,
   "id": "3191ba86",
   "metadata": {},
   "outputs": [],
   "source": [
    "print(Cal_len_meters(Gvx[0:2250],Gvy[0:2250]))"
   ]
  }
 ],
 "metadata": {
  "kernelspec": {
   "display_name": "Python 3 (ipykernel)",
   "language": "python",
   "name": "python3"
  },
  "language_info": {
   "codemirror_mode": {
    "name": "ipython",
    "version": 3
   },
   "file_extension": ".py",
   "mimetype": "text/x-python",
   "name": "python",
   "nbconvert_exporter": "python",
   "pygments_lexer": "ipython3",
   "version": "3.8.10"
  }
 },
 "nbformat": 4,
 "nbformat_minor": 5
}
