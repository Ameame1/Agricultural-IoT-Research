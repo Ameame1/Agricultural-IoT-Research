{
 "cells": [
  {
   "cell_type": "code",
   "execution_count": null,
   "id": "def1a811",
   "metadata": {},
   "outputs": [],
   "source": [
    "import os\n",
    "import warnings\n",
    "warnings.filterwarnings('ignore')\n",
    "os.environ['TF_CPP_MIN_LOG_LEVEL'] = '3'\n",
    "os.environ[\"CUDA_DEVICE_ORDER\"] = \"PCI_BUS_ID\"\n",
    "os.environ[\"CUDA_VISIBLE_DEVICES\"]=\"1\"\n",
    "import pandas as pd\n",
    "import numpy as np\n",
    "from gtda.time_series import SlidingWindow\n",
    "import matplotlib.pyplot as plt\n",
    "from math import atan2, pi, sqrt, cos, sin, floor\n",
    "import tensorflow as tf\n",
    "from tensorflow.python.keras.backend import set_session\n",
    "config = tf.compat.v1.ConfigProto() \n",
    "config.gpu_options.allow_growth = True  \n",
    "config.log_device_placement = True  \n",
    "sess2 = tf.compat.v1.Session(config=config)\n",
    "set_session(sess2)  \n",
    "from tensorflow.keras.layers import Dense, MaxPooling1D, Flatten, LSTM, Bidirectional, concatenate\n",
    "from tensorflow.keras import Input, Model\n",
    "from tensorflow.keras.callbacks import ModelCheckpoint\n",
    "import tensorflow.compat.v1.keras.backend as K\n",
    "from tensorflow.keras.models import load_model\n",
    "from tcn import TCN, tcn_full_summary\n",
    "from sklearn.metrics import mean_squared_error\n",
    "from scipy.stats import uniform\n",
    "from keras_flops import get_flops\n",
    "import pickle\n",
    "import csv\n",
    "import random\n",
    "import itertools\n",
    "import math\n",
    "import time\n",
    "sys.path.insert(0, '../dataset2/')\n",
    "from data_utils_2 import *\n",
    "from vetorch_traj_utils import *"
   ]
  },
  {
   "cell_type": "markdown",
   "id": "9e5689d6",
   "metadata": {},
   "source": [
    "## Import Dataset"
   ]
  },
  {
   "cell_type": "code",
   "execution_count": null,
   "id": "aff31712",
   "metadata": {},
   "outputs": [],
   "source": [
    "window_size = 100\n",
    "stride = 20\n",
    "\n",
    "f = '../dataset2/'\n",
    "X_train,Y_Pos_train, Physics_Vec_train, x_vel_train, y_vel_train, x0_list_train, y0_list_train, size_of_each_train = import_agrobot_dataset_p3(dataset_folder=f, type_flag=1, window_size=window_size, stride=stride)\n",
    "P = np.repeat(Physics_Vec_train,window_size).reshape((Physics_Vec_train.shape[0],window_size,1))\n",
    "X_train = np.concatenate((X_train,P),axis=2)\n",
    "\n",
    "X_test,Y_Pos_test, Physics_Vec_test, x_vel_test, y_vel_test, x0_list_test, y0_list_test, size_of_each_test= import_agrobot_dataset_p3(type_flag = 2, dataset_folder=f,window_size=window_size, stride=stride)\n",
    "P_test = np.repeat(Physics_Vec_test,window_size).reshape((Physics_Vec_test.shape[0],window_size,1))\n",
    "X_test = np.concatenate((X_test,P_test),axis=2)"
   ]
  },
  {
   "cell_type": "markdown",
   "id": "63a33237",
   "metadata": {},
   "source": [
    "## Generate Heading, Displacement and Timestamp Intervals"
   ]
  },
  {
   "cell_type": "code",
   "execution_count": null,
   "id": "d54b4488",
   "metadata": {},
   "outputs": [],
   "source": [
    "disp_train = np.sqrt((x_vel_train**2) + (y_vel_train**2)) \n",
    "disp_test = np.sqrt((x_vel_test**2) + (y_vel_test**2)) "
   ]
  },
  {
   "cell_type": "code",
   "execution_count": null,
   "id": "5ead76ba",
   "metadata": {},
   "outputs": [],
   "source": [
    "heading_train = np.zeros((Y_Pos_train.shape[0]))\n",
    "prev = 0\n",
    "for i in range(Y_Pos_train.shape[0]):\n",
    "    theta = abs_heading(Y_Pos_train[i,-1,0],Y_Pos_train[i,-1,1],Y_Pos_train[i,0,0],Y_Pos_train[i,0,1])\n",
    "    if theta<180:\n",
    "        theta = theta + 180\n",
    "\n",
    "    heading_train[i] = theta - prev\n",
    "    if(heading_train[i]>100 or heading_train[i]<-100):\n",
    "        theta2 = theta\n",
    "        prev2 = prev\n",
    "        if theta<prev:\n",
    "            theta2 = theta + 360\n",
    "        else:\n",
    "            prev2 =  prev + 360\n",
    "        heading_train[i] = theta2 - prev2 \n",
    "    prev = theta"
   ]
  },
  {
   "cell_type": "code",
   "execution_count": null,
   "id": "f7063152",
   "metadata": {},
   "outputs": [],
   "source": [
    "heading_test = np.zeros((Y_Pos_test.shape[0]))\n",
    "prev = 0\n",
    "for i in range(Y_Pos_test.shape[0]):\n",
    "    theta = abs_heading(Y_Pos_test[i,-1,0],Y_Pos_test[i,-1,1],Y_Pos_test[i,0,0],Y_Pos_test[i,0,1])\n",
    "    if theta<180:\n",
    "        theta = theta + 180\n",
    "\n",
    "    heading_test[i] = theta - prev\n",
    "    if(heading_test[i]>100 or heading_test[i]<-100):\n",
    "        theta2 = theta\n",
    "        prev2 = prev\n",
    "        if theta<prev:\n",
    "            theta2 = theta + 360\n",
    "        else:\n",
    "            prev2 =  prev + 360\n",
    "        heading_test[i] = theta2 - prev2 \n",
    "    prev = theta"
   ]
  },
  {
   "cell_type": "code",
   "execution_count": null,
   "id": "367f2250",
   "metadata": {},
   "outputs": [],
   "source": [
    "ts_list_train = 0.01*np.ones((X_train.shape[0],window_size,1))\n",
    "ts_list_test = 0.01*np.ones((X_test.shape[0],window_size,1))"
   ]
  },
  {
   "cell_type": "markdown",
   "id": "9d3d0d51",
   "metadata": {},
   "source": [
    "## Model Training"
   ]
  },
  {
   "cell_type": "code",
   "execution_count": null,
   "id": "390e0537",
   "metadata": {},
   "outputs": [],
   "source": [
    "input_acc = Input(shape=(window_size\n",
    "                         , 3))\n",
    "r = TCN(kernel_size=7,nb_filters=64,nb_stacks=4,use_skip_connections=True,use_weight_norm=True,\n",
    "        dropout_rate=0.2,dilations=(1,2,4,8),return_sequences=True)(input_acc)\n",
    "slice_layer = r[:,-1,:]\n",
    "fc = Dense(64)(slice_layer)\n",
    "fc = Dense(32)(fc)\n",
    "output1 = Dense(1, activation='linear', name='disp')(fc)\n",
    "model = Model(inputs=[input_acc],outputs=[output1])\n",
    "model.summary()\n",
    "\n",
    "input_gyro = Input(shape=(window_size, 3))\n",
    "s = TCN(kernel_size=7,nb_filters=64,nb_stacks=4,use_skip_connections=True,use_weight_norm=True,\n",
    "        dropout_rate=0.2,dilations=(1,2,4,8),return_sequences=True)(input_gyro)\n",
    "slice_layer_2 = s[:,-1,:]\n",
    "fc_2 = Dense(64)(slice_layer_2)\n",
    "fc_2 = Dense(32)(fc_2)\n",
    "output2 = Dense(1, activation='linear', name='ori')(fc_2)\n",
    "model2 = Model(inputs=[input_gyro],outputs=[output2])\n",
    "model2.summary()"
   ]
  },
  {
   "cell_type": "code",
   "execution_count": null,
   "id": "ba05152e",
   "metadata": {},
   "outputs": [],
   "source": [
    "model_name = 'vetorch_dset_2_disp.hdf5'\n",
    "opt = tf.keras.optimizers.Adam(learning_rate=0.0015)\n",
    "model.compile(loss={'disp': 'mse'},optimizer=opt)\n",
    "checkpoint = ModelCheckpoint(model_name, monitor='loss', verbose=1, save_best_only=True)\n",
    "model.fit(x=X_train[:,:,0:3],y=[disp_train],\n",
    "          callbacks=[checkpoint],epochs=1500,batch_size=32,verbose=1,shuffle=True)"
   ]
  },
  {
   "cell_type": "code",
   "execution_count": null,
   "id": "9ce26c67",
   "metadata": {},
   "outputs": [],
   "source": [
    "model2_name = 'vetorch_dset_2_head.hdf5'\n",
    "opt2 = tf.keras.optimizers.Adam(learning_rate=0.0015)\n",
    "model2.compile(loss={'ori': 'mse'},optimizer=opt2)\n",
    "checkpoint2 = ModelCheckpoint(model2_name, monitor='loss', verbose=1, save_best_only=True)\n",
    "model2.fit(x=X_train[:,:,3:6],y=[heading_train],\n",
    "          callbacks=[checkpoint2],epochs=1500,batch_size=32,verbose=1,shuffle=True)"
   ]
  },
  {
   "cell_type": "markdown",
   "id": "e0c48812",
   "metadata": {},
   "source": [
    "## Evaluation"
   ]
  },
  {
   "cell_type": "code",
   "execution_count": null,
   "id": "9955438a",
   "metadata": {},
   "outputs": [],
   "source": [
    "model_name = 'vetorch_dset_2_disp.hdf5'\n",
    "model2_name = 'vetorch_dset_2_head.hdf5'\n",
    "model = load_model(model_name,custom_objects={'TCN':TCN})\n",
    "model2 = load_model(model2_name,custom_objects={'TCN':TCN})"
   ]
  },
  {
   "cell_type": "code",
   "execution_count": null,
   "id": "35e7bb6e",
   "metadata": {},
   "outputs": [],
   "source": [
    "train1_mat = X_train[:,:,0:3]\n",
    "train2_mat = X_train[:,:,3:6]\n",
    "test1_mat = X_test[:,:,0:3]\n",
    "test2_mat = X_test[:,:,3:6]"
   ]
  },
  {
   "cell_type": "markdown",
   "id": "92efda5c",
   "metadata": {},
   "source": [
    "Unseen Trajectory"
   ]
  },
  {
   "cell_type": "code",
   "execution_count": null,
   "id": "f4df3729",
   "metadata": {},
   "outputs": [],
   "source": [
    "ATE = []\n",
    "RTE = []\n",
    "ATE_dist = []\n",
    "RTE_dist = []\n",
    "for i in range(len(size_of_each_test)):\n",
    "    Pvx, Pvy = vetorch_pos_generator(test1_mat, test2_mat, size_of_each_test, \n",
    "                   x0_list_test, y0_list_test, window_size, stride,i,model,model2)   \n",
    "    Gvx, Gvy = vetorch_GT_pos_generator(disp_test,heading_test,size_of_each_test,\n",
    "                                x0_list_test, y0_list_test, window_size, stride,i)\n",
    "    \n",
    "    at, rt, at_all, rt_all = Cal_TE(Gvx, Gvy, Pvx, Pvy,\n",
    "                                    sampling_rate=100,window_size=window_size,stride=stride)\n",
    "    ATE.append(at)\n",
    "    RTE.append(rt)\n",
    "    ATE_dist.append(Cal_len_meters(Gvx, Gvy))\n",
    "    RTE_dist.append(Cal_len_meters(Gvx, Gvy, 600))\n",
    "    print('ATE, RTE, Trajectory Length, Trajectory Length (60 seconds)',ATE[i],RTE[i],ATE_dist[i],RTE_dist[i])\n",
    "    \n",
    "print('Median ATE and RTE', np.median(ATE),np.median(RTE))\n",
    "print('Mean ATE and RTE', np.mean(ATE),np.mean(RTE))\n",
    "print('STD ATE and RTE', np.std(ATE),np.std(RTE))"
   ]
  },
  {
   "cell_type": "markdown",
   "id": "11a74bd3",
   "metadata": {},
   "source": [
    "Seen Trajectory"
   ]
  },
  {
   "cell_type": "code",
   "execution_count": null,
   "id": "cb766589",
   "metadata": {},
   "outputs": [],
   "source": [
    "ATE = []\n",
    "RTE = []\n",
    "ATE_dist = []\n",
    "RTE_dist = []\n",
    "for i in range(len(size_of_each_train)):\n",
    "    Pvx, Pvy = vetorch_pos_generator(train1_mat, train2_mat, size_of_each_train, \n",
    "                   x0_list_train, y0_list_train, window_size, stride,i,model,model2)   \n",
    "    Gvx, Gvy = vetorch_GT_pos_generator(disp_train,heading_train,size_of_each_train,\n",
    "                                x0_list_train, y0_list_train, window_size, stride,i)\n",
    "    \n",
    "    at, rt, at_all, rt_all = Cal_TE(Gvx, Gvy, Pvx, Pvy,\n",
    "                                    sampling_rate=100,window_size=window_size,stride=stride)\n",
    "    ATE.append(at)\n",
    "    RTE.append(rt)\n",
    "    ATE_dist.append(Cal_len_meters(Gvx, Gvy))\n",
    "    RTE_dist.append(Cal_len_meters(Gvx, Gvy, 600))\n",
    "    print('ATE, RTE, Trajectory Length, Trajectory Length (60 seconds)',ATE[i],RTE[i],ATE_dist[i],RTE_dist[i])\n",
    "    \n",
    "print('Median ATE and RTE', np.median(ATE),np.median(RTE))\n",
    "print('Mean ATE and RTE', np.mean(ATE),np.mean(RTE))\n",
    "print('STD ATE and RTE', np.std(ATE),np.std(RTE))"
   ]
  },
  {
   "cell_type": "code",
   "execution_count": null,
   "id": "6027e83f",
   "metadata": {},
   "outputs": [],
   "source": []
  }
 ],
 "metadata": {
  "kernelspec": {
   "display_name": "Python 3 (ipykernel)",
   "language": "python",
   "name": "python3"
  },
  "language_info": {
   "codemirror_mode": {
    "name": "ipython",
    "version": 3
   },
   "file_extension": ".py",
   "mimetype": "text/x-python",
   "name": "python",
   "nbconvert_exporter": "python",
   "pygments_lexer": "ipython3",
   "version": "3.8.10"
  }
 },
 "nbformat": 4,
 "nbformat_minor": 5
}
