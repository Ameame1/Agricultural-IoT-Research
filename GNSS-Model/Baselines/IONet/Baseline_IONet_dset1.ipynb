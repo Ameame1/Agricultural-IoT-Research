{
 "cells": [
  {
   "cell_type": "code",
   "execution_count": null,
   "id": "1f1757e9",
   "metadata": {},
   "outputs": [],
   "source": [
    "import os\n",
    "import warnings\n",
    "warnings.filterwarnings('ignore')\n",
    "os.environ['TF_CPP_MIN_LOG_LEVEL'] = '3'\n",
    "os.environ[\"CUDA_DEVICE_ORDER\"] = \"PCI_BUS_ID\"\n",
    "os.environ[\"CUDA_VISIBLE_DEVICES\"]=\"0\"\n",
    "import pandas as pd\n",
    "import numpy as np\n",
    "from gtda.time_series import SlidingWindow\n",
    "import matplotlib.pyplot as plt\n",
    "from math import atan2, pi, sqrt, cos, sin, floor\n",
    "import tensorflow as tf\n",
    "from tensorflow.python.keras.backend import set_session\n",
    "config = tf.compat.v1.ConfigProto() \n",
    "config.gpu_options.allow_growth = True  \n",
    "config.log_device_placement = True  \n",
    "sess2 = tf.compat.v1.Session(config=config)\n",
    "set_session(sess2)  \n",
    "from tensorflow.keras.layers import Dense, MaxPooling1D, Flatten, LSTM, Bidirectional, concatenate\n",
    "from tensorflow.keras import Input, Model\n",
    "from tensorflow.keras.callbacks import ModelCheckpoint\n",
    "import tensorflow.compat.v1.keras.backend as K\n",
    "from tensorflow.keras.models import load_model\n",
    "from sklearn.metrics import mean_squared_error\n",
    "from scipy.stats import uniform\n",
    "from keras_flops import get_flops\n",
    "import pickle\n",
    "import csv\n",
    "import random\n",
    "import itertools\n",
    "import math\n",
    "import time\n",
    "import sys\n",
    "sys.path.insert(0, '../dataset1/')\n",
    "from data_utils_1 import *\n",
    "from ionet_traj_utils import *"
   ]
  },
  {
   "cell_type": "markdown",
   "id": "7ba4977f",
   "metadata": {},
   "source": [
    "## Import Dataset"
   ]
  },
  {
   "cell_type": "code",
   "execution_count": null,
   "id": "0a55305c",
   "metadata": {},
   "outputs": [],
   "source": [
    "window_size = 100\n",
    "stride = 20\n",
    "\n",
    "f = '../dataset1/'\n",
    "X_train,Y_Pos_train, GPS_train, GPS_xy_train, Physics_Vec_train, x_vel_train, y_vel_train, x0_list_train, y0_list_train, size_of_each_train = import_agrobot_dataset_p2(dataset_folder=f, type_flag=1, window_size=window_size, stride=stride)\n",
    "P = np.repeat(Physics_Vec_train,window_size).reshape((Physics_Vec_train.shape[0],window_size,1))\n",
    "X_train = np.concatenate((X_train,P),axis=2)\n",
    "\n",
    "X_test,Y_Pos_test, GPS_train, GPS_xy_train, Physics_Vec_test, x_vel_test, y_vel_test, x0_list_test, y0_list_test, size_of_each_test= import_agrobot_dataset_p2(type_flag = 2, dataset_folder=f,window_size=window_size, stride=stride)\n",
    "P_test = np.repeat(Physics_Vec_test,window_size).reshape((Physics_Vec_test.shape[0],window_size,1))\n",
    "X_test = np.concatenate((X_test,P_test),axis=2)"
   ]
  },
  {
   "cell_type": "markdown",
   "id": "b2aba192",
   "metadata": {},
   "source": [
    "## Generate Heading, Displacement and Timestamp Intervals"
   ]
  },
  {
   "cell_type": "code",
   "execution_count": null,
   "id": "00277ba8",
   "metadata": {},
   "outputs": [],
   "source": [
    "disp_train = np.sqrt((x_vel_train**2) + (y_vel_train**2)) \n",
    "disp_test = np.sqrt((x_vel_test**2) + (y_vel_test**2)) "
   ]
  },
  {
   "cell_type": "code",
   "execution_count": null,
   "id": "ade84ec2",
   "metadata": {},
   "outputs": [],
   "source": [
    "heading_train = np.zeros((Y_Pos_train.shape[0]))\n",
    "prev = 0\n",
    "for i in range(Y_Pos_train.shape[0]):\n",
    "    theta = abs_heading(Y_Pos_train[i,-1,0],Y_Pos_train[i,-1,1],Y_Pos_train[i,0,0],Y_Pos_train[i,0,1])\n",
    "    if theta<180:\n",
    "        theta = theta + 180\n",
    "\n",
    "    heading_train[i] = theta - prev\n",
    "    if(heading_train[i]>100 or heading_train[i]<-100):\n",
    "        theta2 = theta\n",
    "        prev2 = prev\n",
    "        if theta<prev:\n",
    "            theta2 = theta + 360\n",
    "        else:\n",
    "            prev2 =  prev + 360\n",
    "        heading_train[i] = theta2 - prev2 \n",
    "    prev = theta"
   ]
  },
  {
   "cell_type": "code",
   "execution_count": null,
   "id": "222b082f",
   "metadata": {},
   "outputs": [],
   "source": [
    "heading_test = np.zeros((Y_Pos_test.shape[0]))\n",
    "prev = 0\n",
    "for i in range(Y_Pos_test.shape[0]):\n",
    "    theta = abs_heading(Y_Pos_test[i,-1,0],Y_Pos_test[i,-1,1],Y_Pos_test[i,0,0],Y_Pos_test[i,0,1])\n",
    "    if theta<180:\n",
    "        theta = theta + 180\n",
    "\n",
    "    heading_test[i] = theta - prev\n",
    "    if(heading_test[i]>100 or heading_test[i]<-100):\n",
    "        theta2 = theta\n",
    "        prev2 = prev\n",
    "        if theta<prev:\n",
    "            theta2 = theta + 360\n",
    "        else:\n",
    "            prev2 =  prev + 360\n",
    "        heading_test[i] = theta2 - prev2 \n",
    "    prev = theta"
   ]
  },
  {
   "cell_type": "markdown",
   "id": "387bd8c3",
   "metadata": {},
   "source": [
    "## Model Training"
   ]
  },
  {
   "cell_type": "code",
   "execution_count": null,
   "id": "3bde667d",
   "metadata": {},
   "outputs": [],
   "source": [
    "i = Input(shape=(window_size, X_train[:,:,0:6].shape[2]))\n",
    "f_layer = LSTM(128,dropout=0.25,return_sequences=True)\n",
    "b_layer = LSTM(128,dropout=0.25,return_sequences=True,go_backwards=True)\n",
    "k = Bidirectional(f_layer,backward_layer=b_layer)(i)\n",
    "output1 = Dense(1, activation='linear', name='disp')(k)\n",
    "output2 = Dense(1, activation='linear', name='head')(k)\n",
    "model = Model(inputs=[i],outputs=[output1, output2])\n",
    "model.summary()"
   ]
  },
  {
   "cell_type": "code",
   "execution_count": null,
   "id": "6f141af6",
   "metadata": {},
   "outputs": [],
   "source": [
    "model_name = 'ionet_dset1.hdf5'\n",
    "opt = tf.keras.optimizers.Adam(learning_rate=0.0015)\n",
    "model.compile(loss={'disp': 'mse','head':'mse'},optimizer=opt)\n",
    "checkpoint = ModelCheckpoint(model_name, monitor='loss', verbose=1, save_best_only=True)\n",
    "model.fit(x=X_train[:,:,0:6],y=[disp_train,heading_train*0.0174533],\n",
    "          callbacks=[checkpoint],epochs=1500,batch_size=32,verbose=1,shuffle=True)"
   ]
  },
  {
   "cell_type": "markdown",
   "id": "63865c11",
   "metadata": {},
   "source": [
    "## Evaluation"
   ]
  },
  {
   "cell_type": "code",
   "execution_count": null,
   "id": "d508f1d4",
   "metadata": {},
   "outputs": [],
   "source": [
    "model_name = 'ionet_dset1.hdf5'\n",
    "model = load_model(model_name)"
   ]
  },
  {
   "cell_type": "markdown",
   "id": "c3507114",
   "metadata": {},
   "source": [
    "Unseen Trajectory"
   ]
  },
  {
   "cell_type": "code",
   "execution_count": null,
   "id": "e5868031",
   "metadata": {},
   "outputs": [],
   "source": [
    "ATE = []\n",
    "RTE = []\n",
    "ATE_dist = []\n",
    "RTE_dist = []\n",
    "for i in range(len(size_of_each_test)):\n",
    "    Pvx, Pvy = ionet_pos_generator(X_test[:,:,0:6], size_of_each_test, \n",
    "                   x0_list_test, y0_list_test, window_size, stride,i,model)   \n",
    "    Gvx, Gvy = ionet_GT_pos_generator(disp_test,heading_test,size_of_each_test,\n",
    "                                x0_list_test, y0_list_test, window_size, stride,i)\n",
    "    \n",
    "    at, rt, at_all, rt_all = Cal_TE(Gvx, Gvy, Pvx, Pvy,\n",
    "                                    sampling_rate=100,window_size=window_size,stride=stride)\n",
    "    ATE.append(at)\n",
    "    RTE.append(rt)\n",
    "    ATE_dist.append(Cal_len_meters(Gvx, Gvy))\n",
    "    RTE_dist.append(Cal_len_meters(Gvx, Gvy, 600))\n",
    "    print('ATE, RTE, Trajectory Length, Trajectory Length (60 seconds)',ATE[i],RTE[i],ATE_dist[i],RTE_dist[i])\n",
    "    \n",
    "print('Median ATE and RTE', np.median(ATE),np.median(RTE))\n",
    "print('Mean ATE and RTE', np.mean(ATE),np.mean(RTE))\n",
    "print('STD ATE and RTE', np.std(ATE),np.std(RTE))"
   ]
  },
  {
   "cell_type": "markdown",
   "id": "283f0052",
   "metadata": {},
   "source": [
    "Seen Trajectory"
   ]
  },
  {
   "cell_type": "code",
   "execution_count": null,
   "id": "800b6a9b",
   "metadata": {},
   "outputs": [],
   "source": [
    "ATE = []\n",
    "RTE = []\n",
    "ATE_dist = []\n",
    "RTE_dist = []\n",
    "for i in range(len(size_of_each_train)):\n",
    "    Pvx, Pvy = ionet_pos_generator(X_train[:,:,0:6], size_of_each_train, \n",
    "                   x0_list_train, y0_list_train, window_size, stride,i,model)   \n",
    "    Gvx, Gvy = ionet_GT_pos_generator(disp_train,heading_train,size_of_each_train,\n",
    "                                x0_list_train, y0_list_train, window_size, stride,i)\n",
    "    \n",
    "    at, rt, at_all, rt_all = Cal_TE(Gvx, Gvy, Pvx, Pvy,\n",
    "                                    sampling_rate=100,window_size=window_size,stride=stride)\n",
    "    ATE.append(at)\n",
    "    RTE.append(rt)\n",
    "    ATE_dist.append(Cal_len_meters(Gvx, Gvy))\n",
    "    RTE_dist.append(Cal_len_meters(Gvx, Gvy, 600))\n",
    "    print('ATE, RTE, Trajectory Length, Trajectory Length (60 seconds)',ATE[i],RTE[i],ATE_dist[i],RTE_dist[i])\n",
    "    \n",
    "print('Median ATE and RTE', np.median(ATE),np.median(RTE))\n",
    "print('Mean ATE and RTE', np.mean(ATE),np.mean(RTE))\n",
    "print('STD ATE and RTE', np.std(ATE),np.std(RTE))"
   ]
  },
  {
   "cell_type": "code",
   "execution_count": null,
   "id": "fa44e9b1",
   "metadata": {},
   "outputs": [],
   "source": []
  }
 ],
 "metadata": {
  "kernelspec": {
   "display_name": "Python 3 (ipykernel)",
   "language": "python",
   "name": "python3"
  },
  "language_info": {
   "codemirror_mode": {
    "name": "ipython",
    "version": 3
   },
   "file_extension": ".py",
   "mimetype": "text/x-python",
   "name": "python",
   "nbconvert_exporter": "python",
   "pygments_lexer": "ipython3",
   "version": "3.8.10"
  }
 },
 "nbformat": 4,
 "nbformat_minor": 5
}
