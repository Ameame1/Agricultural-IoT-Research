{
 "cells": [
  {
   "cell_type": "code",
   "execution_count": null,
   "id": "geographic-postage",
   "metadata": {},
   "outputs": [],
   "source": [
    "import os\n",
    "import warnings\n",
    "warnings.filterwarnings('ignore')\n",
    "os.environ['TF_CPP_MIN_LOG_LEVEL'] = '3'\n",
    "os.environ[\"CUDA_DEVICE_ORDER\"] = \"PCI_BUS_ID\"\n",
    "os.environ[\"CUDA_VISIBLE_DEVICES\"]=\"0\"\n",
    "import pandas as pd\n",
    "import numpy as np\n",
    "from gtda.time_series import SlidingWindow\n",
    "import matplotlib.pyplot as plt\n",
    "from math import atan2, pi, sqrt, cos, sin, floor\n",
    "import tensorflow as tf\n",
    "from tensorflow.python.keras.backend import set_session\n",
    "config = tf.compat.v1.ConfigProto() \n",
    "config.gpu_options.allow_growth = True  \n",
    "config.log_device_placement = True  \n",
    "sess2 = tf.compat.v1.Session(config=config)\n",
    "set_session(sess2)  \n",
    "from tensorflow.keras.layers import Dense, MaxPooling1D, Flatten\n",
    "from tensorflow.keras import Input, Model\n",
    "from tensorflow.keras.callbacks import ModelCheckpoint\n",
    "import tensorflow.compat.v1.keras.backend as K\n",
    "from tensorflow.keras.models import load_model\n",
    "from tcn import TCN, tcn_full_summary\n",
    "from sklearn.metrics import mean_squared_error\n",
    "from scipy.stats import uniform\n",
    "from keras_flops import get_flops\n",
    "import pickle\n",
    "import csv\n",
    "import random\n",
    "import itertools\n",
    "import math\n",
    "import time\n",
    "from dataset0.data_utils_0 import *\n",
    "from traj_utils import *\n",
    "from neural_ekf import *"
   ]
  },
  {
   "cell_type": "markdown",
   "id": "a32835c2",
   "metadata": {},
   "source": [
    "## Import Dataset"
   ]
  },
  {
   "cell_type": "code",
   "execution_count": null,
   "id": "preceding-parker",
   "metadata": {},
   "outputs": [],
   "source": [
    "window_size = 100\n",
    "stride = 20\n",
    "\n",
    "f = 'dataset0/'\n",
    "X_train,Y_Pos_train, Physics_Vec_train, x_vel_train, y_vel_train, x0_list_train, y0_list_train, size_of_each_train = import_agrobot_dataset_p1(dataset_folder=f, type_flag=1, window_size=window_size, stride=stride)\n",
    "P = np.repeat(Physics_Vec_train,window_size).reshape((Physics_Vec_train.shape[0],window_size,1))\n",
    "X_train = np.concatenate((X_train,P),axis=2)\n",
    "\n",
    "X_test,Y_Pos_test, Physics_Vec_test, x_vel_test, y_vel_test, x0_list_test, y0_list_test, size_of_each_test= import_agrobot_dataset_p1(type_flag = 2, dataset_folder=f,window_size=window_size, stride=stride)\n",
    "P_test = np.repeat(Physics_Vec_test,window_size).reshape((Physics_Vec_test.shape[0],window_size,1))\n",
    "X_test = np.concatenate((X_test,P_test),axis=2)"
   ]
  },
  {
   "cell_type": "markdown",
   "id": "fb17e4cb",
   "metadata": {},
   "source": [
    "## Load the Pre-trained Model"
   ]
  },
  {
   "cell_type": "code",
   "execution_count": null,
   "id": "tamil-style",
   "metadata": {},
   "outputs": [],
   "source": [
    "model = load_model('Agrobot_First_TCN.hdf5',custom_objects={'TCN':TCN})"
   ]
  },
  {
   "cell_type": "markdown",
   "id": "c335b065",
   "metadata": {},
   "source": [
    "## Kalman Model"
   ]
  },
  {
   "cell_type": "markdown",
   "id": "f00e8abc",
   "metadata": {},
   "source": [
    "Seen Trajectory"
   ]
  },
  {
   "cell_type": "code",
   "execution_count": null,
   "id": "6c243625",
   "metadata": {},
   "outputs": [],
   "source": [
    "ATE = []\n",
    "RTE = []\n",
    "for i in range(len(size_of_each_train)):\n",
    "\n",
    "    fused_pos_x, fused_pos_y, GPS_x, GPS_y =  neural_ekf_gnss_imu(X_train, x_vel_train,y_vel_train, \n",
    "                size_of_each_train,\n",
    "                x0_list_train, y0_list_train,i,window_size,stride,60*5,\n",
    "                 model)\n",
    "    act_x,act_y =  GT_pos_generator(x_vel_train, y_vel_train, size_of_each_train, \n",
    "                   x0_list_train, y0_list_train, window_size, stride,i)\n",
    "    \n",
    "    \n",
    "        \n",
    "    at, rt, at_all, rt_all = Cal_TE(act_x, act_y, fused_pos_x, fused_pos_y,\n",
    "                                    sampling_rate=100,window_size=window_size,stride=stride)\n",
    "\n",
    "    ATE.append(at)\n",
    "    RTE.append(rt)\n",
    "    print('ATE, RTE:',ATE[i],RTE[i])\n",
    "    \n",
    "print('Median ATE and RTE', np.median(ATE),np.median(RTE))\n",
    "print('Mean ATE and RTE', np.mean(ATE),np.mean(RTE))\n",
    "print('STD ATE and RTE', np.std(ATE),np.std(RTE))"
   ]
  },
  {
   "cell_type": "markdown",
   "id": "1ba58c3d",
   "metadata": {},
   "source": [
    "Unseen Trajectory"
   ]
  },
  {
   "cell_type": "code",
   "execution_count": null,
   "id": "c79fc262",
   "metadata": {},
   "outputs": [],
   "source": [
    "ATE = []\n",
    "RTE = []\n",
    "for i in range(len(size_of_each_test)):\n",
    "\n",
    "    fused_pos_x, fused_pos_y, GPS_x, GPS_y =  neural_ekf_gnss_imu(X_test, x_vel_test,y_vel_test, \n",
    "                size_of_each_test,\n",
    "                x0_list_test, y0_list_test,i,window_size,stride,5,\n",
    "                 model)\n",
    "    act_x,act_y =  GT_pos_generator(x_vel_test, y_vel_test, size_of_each_test, \n",
    "                   x0_list_test, y0_list_test, window_size, stride,i)\n",
    "    \n",
    "    \n",
    "        \n",
    "    at, rt, at_all, rt_all = Cal_TE(act_x, act_y, fused_pos_x, fused_pos_y,\n",
    "                                    sampling_rate=100,window_size=window_size,stride=stride)\n",
    "\n",
    "    ATE.append(at)\n",
    "    RTE.append(rt)\n",
    "    print('ATE, RTE:',ATE[i],RTE[i])\n",
    "    \n",
    "print('Median ATE and RTE', np.median(ATE),np.median(RTE))\n",
    "print('Mean ATE and RTE', np.mean(ATE),np.mean(RTE))\n",
    "print('STD ATE and RTE', np.std(ATE),np.std(RTE))\n"
   ]
  },
  {
   "cell_type": "markdown",
   "id": "a76f4cea",
   "metadata": {},
   "source": [
    "Plot"
   ]
  },
  {
   "cell_type": "code",
   "execution_count": null,
   "id": "b9bec0fd",
   "metadata": {},
   "outputs": [],
   "source": [
    "fused_pos_x, fused_pos_y, GPS_x, GPS_y =  neural_ekf_gnss_imu(X_train, x_vel_train,y_vel_train, \n",
    "            size_of_each_train,\n",
    "            x0_list_train, y0_list_train,0,window_size,stride,5,\n",
    "             model)\n",
    "act_x,act_y =  GT_pos_generator(x_vel_train, y_vel_train, size_of_each_train, \n",
    "               x0_list_train, y0_list_train, window_size, stride,0)\n"
   ]
  },
  {
   "cell_type": "code",
   "execution_count": null,
   "id": "3e46ca10",
   "metadata": {},
   "outputs": [],
   "source": [
    "a = 0\n",
    "b = 3000\n",
    "plt.plot(act_x[a:b],act_y[a:b],label='Ground Truth',linestyle='-')\n",
    "plt.plot(fused_pos_x[a:b],fused_pos_y[a:b],label='Neurl-KF',linestyle='-')\n",
    "plt.scatter(GPS_x[math.ceil(a/5):math.ceil(b/5)],GPS_y[math.ceil(a/5):math.ceil(b/5)],\n",
    "            marker='.',label='GPS only')\n",
    "plt.xlim([-2,1.5])\n",
    "plt.ylim([-2,2])\n",
    "plt.grid('minor')\n",
    "plt.xlabel('East (m)')\n",
    "plt.ylabel('North (m)')\n",
    "plt.title('Phase 1, with GPS')\n",
    "plt.legend(loc='best')"
   ]
  }
 ],
 "metadata": {
  "kernelspec": {
   "display_name": "Python 3 (ipykernel)",
   "language": "python",
   "name": "python3"
  },
  "language_info": {
   "codemirror_mode": {
    "name": "ipython",
    "version": 3
   },
   "file_extension": ".py",
   "mimetype": "text/x-python",
   "name": "python",
   "nbconvert_exporter": "python",
   "pygments_lexer": "ipython3",
   "version": "3.8.10"
  }
 },
 "nbformat": 4,
 "nbformat_minor": 5
}
