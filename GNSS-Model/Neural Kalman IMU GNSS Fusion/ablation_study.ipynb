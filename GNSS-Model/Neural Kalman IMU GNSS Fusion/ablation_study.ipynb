{
 "cells": [
  {
   "cell_type": "code",
   "execution_count": null,
   "id": "geographic-postage",
   "metadata": {},
   "outputs": [],
   "source": [
    "import os\n",
    "import warnings\n",
    "warnings.filterwarnings('ignore')\n",
    "os.environ['TF_CPP_MIN_LOG_LEVEL'] = '3'\n",
    "os.environ[\"CUDA_DEVICE_ORDER\"] = \"PCI_BUS_ID\"\n",
    "os.environ[\"CUDA_VISIBLE_DEVICES\"]=\"1\"\n",
    "import pandas as pd\n",
    "import numpy as np\n",
    "from gtda.time_series import SlidingWindow\n",
    "import matplotlib.pyplot as plt\n",
    "from math import atan2, pi, sqrt, cos, sin, floor\n",
    "import tensorflow as tf\n",
    "from tensorflow.python.keras.backend import set_session\n",
    "config = tf.compat.v1.ConfigProto() \n",
    "config.gpu_options.allow_growth = True  \n",
    "config.log_device_placement = True  \n",
    "sess2 = tf.compat.v1.Session(config=config)\n",
    "set_session(sess2)  \n",
    "from tensorflow.keras.layers import Dense, MaxPooling1D, Flatten\n",
    "from tensorflow.keras import Input, Model\n",
    "from tensorflow.keras.callbacks import ModelCheckpoint\n",
    "import tensorflow.compat.v1.keras.backend as K\n",
    "from tensorflow.keras.models import load_model\n",
    "from tcn import TCN, tcn_full_summary\n",
    "from sklearn.metrics import mean_squared_error\n",
    "from scipy.stats import uniform\n",
    "from keras_flops import get_flops\n",
    "import pickle\n",
    "import csv\n",
    "import random\n",
    "import itertools\n",
    "import math\n",
    "import time\n",
    "from dataset0 .data_utils_0 import *\n",
    "from traj_utils import *"
   ]
  },
  {
   "cell_type": "markdown",
   "id": "a32835c2",
   "metadata": {},
   "source": [
    "## Import Dataset"
   ]
  },
  {
   "cell_type": "code",
   "execution_count": null,
   "id": "a1a1c493",
   "metadata": {},
   "outputs": [],
   "source": [
    "window_size = 100\n",
    "stride = 20\n",
    "\n",
    "f = 'dataset0/'\n",
    "X_train,Y_Pos_train, Physics_Vec_train, x_vel_train, y_vel_train, x0_list_train, y0_list_train, size_of_each_train = import_agrobot_dataset_p1(dataset_folder=f, type_flag=1, window_size=window_size, stride=stride)\n",
    "P = np.repeat(Physics_Vec_train,window_size).reshape((Physics_Vec_train.shape[0],window_size,1))\n",
    "X_train = np.concatenate((X_train,P),axis=2)\n",
    "\n",
    "X_test,Y_Pos_test, Physics_Vec_test, x_vel_test, y_vel_test, x0_list_test, y0_list_test, size_of_each_test= import_agrobot_dataset_p1(type_flag = 2, dataset_folder=f,window_size=window_size, stride=stride)\n",
    "P_test = np.repeat(Physics_Vec_test,window_size).reshape((Physics_Vec_test.shape[0],window_size,1))\n",
    "X_test = np.concatenate((X_test,P_test),axis=2)"
   ]
  },
  {
   "cell_type": "markdown",
   "id": "38e5e787",
   "metadata": {},
   "source": [
    "## Ablation Study Knobs\n"
   ]
  },
  {
   "cell_type": "code",
   "execution_count": null,
   "id": "082b8f5b",
   "metadata": {},
   "outputs": [],
   "source": [
    "mag = 0\n",
    "physics = 0\n",
    "velocity = 0\n",
    "model_name = 'Agrobot_dset0_noMPV.hdf5'"
   ]
  },
  {
   "cell_type": "code",
   "execution_count": null,
   "id": "2db4effe",
   "metadata": {},
   "outputs": [],
   "source": [
    "def abs_heading(cur_x, cur_y, prev_x, prev_y):\n",
    "        dely = (cur_y - prev_y)\n",
    "        delx = (cur_x - prev_x)\n",
    "        delh= atan2(delx,dely)*57.2958\n",
    "        return delh"
   ]
  },
  {
   "cell_type": "code",
   "execution_count": null,
   "id": "e181967c",
   "metadata": {},
   "outputs": [],
   "source": [
    "disp_train = np.sqrt((x_vel_train**2) + (y_vel_train**2)) \n",
    "disp_test = np.sqrt((x_vel_test**2) + (y_vel_test**2)) \n",
    "\n",
    "heading_train = np.zeros((Y_Pos_train.shape[0]))\n",
    "prev = 0\n",
    "for i in range(Y_Pos_train.shape[0]):\n",
    "    theta = abs_heading(Y_Pos_train[i,-1,0],Y_Pos_train[i,-1,1],Y_Pos_train[i,0,0],Y_Pos_train[i,0,1])\n",
    "    if theta<180:\n",
    "        theta = theta + 180\n",
    "\n",
    "    heading_train[i] = theta - prev\n",
    "    if(heading_train[i]>100 or heading_train[i]<-100):\n",
    "        theta2 = theta\n",
    "        prev2 = prev\n",
    "        if theta<prev:\n",
    "            theta2 = theta + 360\n",
    "        else:\n",
    "            prev2 =  prev + 360\n",
    "        heading_train[i] = theta2 - prev2 \n",
    "    prev = theta\n",
    "    \n",
    "heading_test = np.zeros((Y_Pos_test.shape[0]))\n",
    "prev = 0\n",
    "for i in range(Y_Pos_test.shape[0]):\n",
    "    theta = abs_heading(Y_Pos_test[i,-1,0],Y_Pos_test[i,-1,1],Y_Pos_test[i,0,0],Y_Pos_test[i,0,1])\n",
    "    if theta<180:\n",
    "        theta = theta + 180\n",
    "\n",
    "    heading_test[i] = theta - prev\n",
    "    if(heading_test[i]>100 or heading_test[i]<-100):\n",
    "        theta2 = theta\n",
    "        prev2 = prev\n",
    "        if theta<prev:\n",
    "            theta2 = theta + 360\n",
    "        else:\n",
    "            prev2 =  prev + 360\n",
    "        heading_test[i] = theta2 - prev2 \n",
    "    prev = theta"
   ]
  },
  {
   "cell_type": "code",
   "execution_count": null,
   "id": "0176a466",
   "metadata": {},
   "outputs": [],
   "source": [
    "if(mag==0 and physics==1):\n",
    "    X_train = X_train[:,:,[0,1,2,3,4,5,9]]\n",
    "    X_test = X_test[:,:,[0,1,2,3,4,5,9]]\n",
    "\n",
    "elif(mag==1 and physics==0):\n",
    "    X_train = X_train[:,:,0:9]\n",
    "    X_test = X_test[:,:,0:9]\n",
    "\n",
    "elif(mag==0 and physics==0):\n",
    "    X_train = X_train[:,:,0:6]\n",
    "    X_test = X_test[:,:,0:6]\n",
    "\n",
    "else:\n",
    "    print('Physics and Magnetometer enabled.')"
   ]
  },
  {
   "cell_type": "markdown",
   "id": "98f386a6",
   "metadata": {},
   "source": [
    "## Model Training"
   ]
  },
  {
   "cell_type": "code",
   "execution_count": null,
   "id": "satisfied-sunrise",
   "metadata": {},
   "outputs": [],
   "source": [
    "nb_filters = 32\n",
    "kernel_size = 5\n",
    "dilations = [1,2,4,8,16,32,64,128]\n",
    "dropout_rate = 0.0\n",
    "use_skip_connections = True\n",
    "\n",
    "batch_size, timesteps, input_dim = 256, window_size, X_train.shape[2]\n",
    "i = Input(shape=(timesteps, input_dim))\n",
    "\n",
    "m = TCN(nb_filters=nb_filters,kernel_size=kernel_size,dilations=dilations,dropout_rate=dropout_rate,\n",
    "            use_skip_connections=use_skip_connections)(i)  \n",
    "\n",
    "m = tf.reshape(m, [-1, nb_filters, 1])\n",
    "m = MaxPooling1D(pool_size=(2))(m)\n",
    "m = Flatten()(m)\n",
    "m = Dense(32, activation='linear', name='pre')(m)\n",
    "output1 = Dense(1, activation='linear', name='velx')(m)\n",
    "output2 = Dense(1, activation='linear', name='vely')(m)\n",
    "model = Model(inputs=[i], outputs=[output1, output2])\n",
    "opt = tf.keras.optimizers.Adam()\n",
    "model.compile(loss={'velx': 'mse','vely':'mse'},optimizer=opt)  \n",
    "model.summary()"
   ]
  },
  {
   "cell_type": "code",
   "execution_count": null,
   "id": "ranging-bridal",
   "metadata": {},
   "outputs": [],
   "source": [
    "\n",
    "checkpoint = ModelCheckpoint(model_name, monitor='loss', verbose=1, save_best_only=True)\n",
    "if(velocity==1):\n",
    "    model.fit(x=X_train, y=[x_vel_train, y_vel_train],\n",
    "              epochs=3000, shuffle=True,callbacks=[checkpoint],batch_size=batch_size)     \n",
    "else:\n",
    "    model.fit(x=X_train, y=[disp_train, heading_train*0.0174533],\n",
    "              epochs=3000, shuffle=True,callbacks=[checkpoint],batch_size=batch_size) "
   ]
  },
  {
   "cell_type": "markdown",
   "id": "fb17e4cb",
   "metadata": {},
   "source": [
    "## Evaluation"
   ]
  },
  {
   "cell_type": "code",
   "execution_count": null,
   "id": "6dd4e40c",
   "metadata": {},
   "outputs": [],
   "source": [
    "def agrobot_head_disp_pos_generator(net_inp_mat, size_of_each, \n",
    "                   x0_list, y0_list, window_size, stride,file_idx,my_model):\n",
    "    \n",
    "    if (file_idx == 0):\n",
    "        cur_inp = net_inp_mat[0:size_of_each[0],:,:]\n",
    "    elif (file_idx == 1):\n",
    "        cur_inp = net_inp_mat[np.sum(size_of_each[0]):np.sum(size_of_each[0:file_idx+1]),:,:]\n",
    "\n",
    "    else:\n",
    "        cur_inp = net_inp_mat[np.sum(size_of_each[0:file_idx]):np.sum(size_of_each[0:file_idx+1]),:,:]    \n",
    "    \n",
    "    y_pred = my_model.predict(cur_inp)\n",
    "    \n",
    "    pointx = []\n",
    "    pointy = []\n",
    "    Lx =  x0_list[file_idx]\n",
    "    Ly = y0_list[file_idx]\n",
    "    for i in range(len(cur_inp)):\n",
    "        Lx = Lx + (y_pred[0][i]/(((window_size-stride)/stride)))*cos(y_pred[1][i])\n",
    "        Ly = Ly + (y_pred[0][i]/(((window_size-stride)/stride)))*sin(y_pred[1][i])\n",
    "        pointx.append(Lx)\n",
    "        pointy.append(Ly)\n",
    "    Pvx = pointx\n",
    "    Pvy = pointy   \n",
    "    \n",
    "    return Pvx, Pvy"
   ]
  },
  {
   "cell_type": "code",
   "execution_count": null,
   "id": "e068205c",
   "metadata": {},
   "outputs": [],
   "source": [
    "def agrobot_head_disp_GT_pos_generator(disp, head, size_of_each, \n",
    "                   x0_list, y0_list, window_size, stride,file_idx):  \n",
    "    if (file_idx == 0):\n",
    "        disp_sel = disp[0:size_of_each[0]]\n",
    "        head_sel = head[0:size_of_each[0]]\n",
    "    elif (file_idx == 1):\n",
    "        disp_sel = disp[np.sum(size_of_each[0]):np.sum(size_of_each[0:file_idx+1])]\n",
    "        head_sel = head[np.sum(size_of_each[0]):np.sum(size_of_each[0:file_idx+1])]\n",
    "\n",
    "    else:\n",
    "        disp_sel = disp[np.sum(size_of_each[0:file_idx]):np.sum(size_of_each[0:file_idx+1])]\n",
    "        head_sel = head[np.sum(size_of_each[0:file_idx]):np.sum(size_of_each[0:file_idx+1])]\n",
    "\n",
    "    head_sel = head_sel*0.0174533\n",
    "    pointx = []\n",
    "    pointy = []\n",
    "    Lx =  x0_list[file_idx]\n",
    "    Ly = y0_list[file_idx]\n",
    "    for i in range(len(disp_sel)):\n",
    "        Lx = Lx + (disp_sel[i]/(((window_size-stride)/stride)))*cos(head_sel[i])\n",
    "        Ly = Ly + (disp_sel[i]/(((window_size-stride)/stride)))*sin(head_sel[i])  \n",
    "        pointx.append(Lx)\n",
    "        pointy.append(Ly)   \n",
    "    Gvx = pointx\n",
    "    Gvy = pointy\n",
    "    \n",
    "    return Gvx, Gvy"
   ]
  },
  {
   "cell_type": "code",
   "execution_count": null,
   "id": "tamil-style",
   "metadata": {},
   "outputs": [],
   "source": [
    "#model_name = 'Agrobot_First_TCN3.hdf5'\n",
    "model = load_model(model_name,custom_objects={'TCN':TCN})"
   ]
  },
  {
   "cell_type": "markdown",
   "id": "2f2faf51",
   "metadata": {},
   "source": [
    "Unseen Trajectories"
   ]
  },
  {
   "cell_type": "code",
   "execution_count": null,
   "id": "agreed-booking",
   "metadata": {},
   "outputs": [],
   "source": [
    "ATE = []\n",
    "RTE = []\n",
    "ATE_dist = []\n",
    "RTE_dist = []\n",
    "for i in range(len(size_of_each_test)):\n",
    "    if(velocity==1):\n",
    "        Pvx, Pvy = model_pos_generator(X_test, size_of_each_test, \n",
    "                   x0_list_test, y0_list_test, window_size, stride,i,model) \n",
    "        Gvx, Gvy = GT_pos_generator(x_vel_test,y_vel_test,size_of_each_test,\n",
    "                                x0_list_test, y0_list_test, window_size, stride,i)\n",
    "    else:\n",
    "        Pvx, Pvy = agrobot_head_disp_pos_generator(X_test, size_of_each_test, \n",
    "                   x0_list_test, y0_list_test, window_size, stride,i,model) \n",
    "        Gvx, Gvy = agrobot_head_disp_GT_pos_generator(disp_test,heading_test,size_of_each_test,\n",
    "                                x0_list_test, y0_list_test, window_size, stride,i)\n",
    "    \n",
    "    at, rt, at_all, rt_all = Cal_TE(Gvx, Gvy, Pvx, Pvy,\n",
    "                                    sampling_rate=100,window_size=window_size,stride=stride)\n",
    "    ATE.append(at)\n",
    "    RTE.append(rt)\n",
    "    ATE_dist.append(Cal_len_meters(Gvx, Gvy))\n",
    "    RTE_dist.append(Cal_len_meters(Gvx, Gvy, 600))\n",
    "    print('ATE, RTE, Trajectory Length, Trajectory Length (60 seconds)',ATE[i],RTE[i],ATE_dist[i],RTE_dist[i])\n",
    "    \n",
    "print('Median ATE and RTE', np.median(ATE),np.median(RTE))\n",
    "print('Mean ATE and RTE', np.mean(ATE),np.mean(RTE))\n",
    "print('STD ATE and RTE', np.std(ATE),np.std(RTE))"
   ]
  },
  {
   "cell_type": "markdown",
   "id": "eae0d983",
   "metadata": {},
   "source": [
    "Seen Trajectories"
   ]
  },
  {
   "cell_type": "code",
   "execution_count": null,
   "id": "581dc951",
   "metadata": {},
   "outputs": [],
   "source": [
    "ATE = []\n",
    "RTE = []\n",
    "ATE_dist = []\n",
    "RTE_dist = []\n",
    "for i in range(len(size_of_each_train)):\n",
    "    if(velocity==1):\n",
    "        Pvx, Pvy = model_pos_generator(X_train, size_of_each_train, \n",
    "                   x0_list_train, y0_list_train, window_size, stride,i,model)\n",
    "        Gvx, Gvy = GT_pos_generator(x_vel_train,y_vel_train,size_of_each_train,\n",
    "                                x0_list_train, y0_list_train, window_size, stride,i)\n",
    "    else:\n",
    "        Pvx, Pvy = agrobot_head_disp_pos_generator(X_train, size_of_each_train, \n",
    "                   x0_list_train, y0_list_train, window_size, stride,i,model)   \n",
    "\n",
    "        Gvx, Gvy = agrobot_head_disp_GT_pos_generator(disp_train,heading_train,size_of_each_train,\n",
    "                                x0_list_train, y0_list_train, window_size, stride,i)    \n",
    "    at, rt, at_all, rt_all = Cal_TE(Gvx, Gvy, Pvx, Pvy,\n",
    "                                    sampling_rate=100,window_size=window_size,stride=stride)\n",
    "    ATE.append(at)\n",
    "    RTE.append(rt)\n",
    "    ATE_dist.append(Cal_len_meters(Gvx, Gvy))\n",
    "    RTE_dist.append(Cal_len_meters(Gvx, Gvy, 600))\n",
    "    print('ATE, RTE, Trajectory Length, Trajectory Length (60 seconds)',ATE[i],RTE[i],ATE_dist[i],RTE_dist[i])\n",
    "    \n",
    "print('Median ATE and RTE', np.median(ATE),np.median(RTE))\n",
    "print('Mean ATE and RTE', np.mean(ATE),np.mean(RTE))\n",
    "print('STD ATE and RTE', np.std(ATE),np.std(RTE))"
   ]
  }
 ],
 "metadata": {
  "kernelspec": {
   "display_name": "Python 3 (ipykernel)",
   "language": "python",
   "name": "python3"
  },
  "language_info": {
   "codemirror_mode": {
    "name": "ipython",
    "version": 3
   },
   "file_extension": ".py",
   "mimetype": "text/x-python",
   "name": "python",
   "nbconvert_exporter": "python",
   "pygments_lexer": "ipython3",
   "version": "3.8.10"
  }
 },
 "nbformat": 4,
 "nbformat_minor": 5
}
