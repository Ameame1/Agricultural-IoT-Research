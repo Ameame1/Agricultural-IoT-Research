{
 "cells": [
  {
   "cell_type": "code",
   "execution_count": null,
   "id": "geographic-postage",
   "metadata": {},
   "outputs": [],
   "source": [
    "import os\n",
    "import warnings\n",
    "warnings.filterwarnings('ignore')\n",
    "os.environ['TF_CPP_MIN_LOG_LEVEL'] = '3'\n",
    "os.environ[\"CUDA_DEVICE_ORDER\"] = \"PCI_BUS_ID\"\n",
    "os.environ[\"CUDA_VISIBLE_DEVICES\"]=\"0\"\n",
    "import pandas as pd\n",
    "import numpy as np\n",
    "from gtda.time_series import SlidingWindow\n",
    "import matplotlib.pyplot as plt\n",
    "from math import atan2, pi, sqrt, cos, sin, floor\n",
    "import tensorflow as tf\n",
    "from tensorflow.python.keras.backend import set_session\n",
    "config = tf.compat.v1.ConfigProto() \n",
    "config.gpu_options.allow_growth = True  \n",
    "config.log_device_placement = True  \n",
    "sess2 = tf.compat.v1.Session(config=config)\n",
    "set_session(sess2)  \n",
    "from tensorflow.keras.layers import Dense, MaxPooling1D, Flatten\n",
    "from tensorflow.keras import Input, Model\n",
    "from tensorflow.keras.callbacks import ModelCheckpoint\n",
    "import tensorflow.compat.v1.keras.backend as K\n",
    "from tensorflow.keras.models import load_model\n",
    "from tcn import TCN, tcn_full_summary\n",
    "from sklearn.metrics import mean_squared_error\n",
    "from scipy.stats import uniform\n",
    "from keras_flops import get_flops\n",
    "import pickle\n",
    "import csv\n",
    "import random\n",
    "import itertools\n",
    "import math\n",
    "import time\n",
    "from dataset1.data_utils_1 import *\n",
    "from traj_utils import *"
   ]
  },
  {
   "cell_type": "markdown",
   "id": "a32835c2",
   "metadata": {},
   "source": [
    "## Import Dataset"
   ]
  },
  {
   "cell_type": "code",
   "execution_count": null,
   "id": "preceding-parker",
   "metadata": {},
   "outputs": [],
   "source": [
    "window_size = 100\n",
    "stride = 20\n",
    "\n",
    "f = 'dataset1/'\n",
    "X_train,Y_Pos_train, GPS_train, GPS_xy_train, Physics_Vec_train, x_vel_train, y_vel_train, x0_list_train, y0_list_train, size_of_each_train = import_agrobot_dataset_p2(dataset_folder=f, type_flag=1, window_size=window_size, stride=stride)\n",
    "P = np.repeat(Physics_Vec_train,window_size).reshape((Physics_Vec_train.shape[0],window_size,1))\n",
    "X_train = np.concatenate((X_train,P),axis=2)\n",
    "\n",
    "X_test,Y_Pos_test, GPS_train, GPS_xy_train, Physics_Vec_test, x_vel_test, y_vel_test, x0_list_test, y0_list_test, size_of_each_test= import_agrobot_dataset_p2(type_flag = 2, dataset_folder=f,window_size=window_size, stride=stride)\n",
    "P_test = np.repeat(Physics_Vec_test,window_size).reshape((Physics_Vec_test.shape[0],window_size,1))\n",
    "X_test = np.concatenate((X_test,P_test),axis=2)"
   ]
  },
  {
   "cell_type": "markdown",
   "id": "9e395e1e",
   "metadata": {},
   "source": [
    "###  Choose few minutes of data for training"
   ]
  },
  {
   "cell_type": "code",
   "execution_count": null,
   "id": "b5c3fed0",
   "metadata": {},
   "outputs": [],
   "source": [
    "x_train_cur = X_train[0:1500,:,:]\n",
    "x_vel_train_cur = x_vel_train[0:1500]\n",
    "y_vel_train_cur = y_vel_train[0:1500]"
   ]
  },
  {
   "cell_type": "markdown",
   "id": "fb17e4cb",
   "metadata": {},
   "source": [
    "## Fine Tuning"
   ]
  },
  {
   "cell_type": "code",
   "execution_count": null,
   "id": "tamil-style",
   "metadata": {},
   "outputs": [],
   "source": [
    "model_name = 'Agrobot_First_TCN.hdf5'\n",
    "model = load_model(model_name,custom_objects={'TCN':TCN})\n",
    "opt = tf.keras.optimizers.Adam()\n",
    "checkpoint = ModelCheckpoint('ag_first_tcn_dset1_5min.hdf5', monitor='loss', verbose=1, save_best_only=True)\n",
    "model.compile(loss={'velx': 'mse','vely':'mse'},optimizer=opt)  \n",
    "model.summary()"
   ]
  },
  {
   "cell_type": "code",
   "execution_count": null,
   "id": "02b074b6",
   "metadata": {},
   "outputs": [],
   "source": [
    "model.fit(x=x_train_cur, y=[x_vel_train_cur, y_vel_train_cur],epochs=100, shuffle=True,callbacks=[checkpoint],batch_size=16)     "
   ]
  },
  {
   "cell_type": "markdown",
   "id": "2f2faf51",
   "metadata": {},
   "source": [
    "Unseen Trajectories"
   ]
  },
  {
   "cell_type": "code",
   "execution_count": null,
   "id": "agreed-booking",
   "metadata": {},
   "outputs": [],
   "source": [
    "ATE = []\n",
    "RTE = []\n",
    "ATE_dist = []\n",
    "RTE_dist = []\n",
    "for i in range(len(size_of_each_test)):\n",
    "    Pvx, Pvy = model_pos_generator(X_test, size_of_each_test, \n",
    "                   x0_list_test, y0_list_test, window_size, stride,i,model)   \n",
    "    Gvx, Gvy = GT_pos_generator(x_vel_test,y_vel_test,size_of_each_test,\n",
    "                                x0_list_test, y0_list_test, window_size, stride,i)\n",
    "    \n",
    "    at, rt, at_all, rt_all = Cal_TE(Gvx, Gvy, Pvx, Pvy,\n",
    "                                    sampling_rate=100,window_size=window_size,stride=stride)\n",
    "    ATE.append(at)\n",
    "    RTE.append(rt)\n",
    "    ATE_dist.append(Cal_len_meters(Gvx, Gvy))\n",
    "    RTE_dist.append(Cal_len_meters(Gvx, Gvy, 600))\n",
    "    print('ATE, RTE, Trajectory Length, Trajectory Length (60 seconds)',ATE[i],RTE[i],ATE_dist[i],RTE_dist[i])\n",
    "    \n",
    "print('Median ATE and RTE', np.median(ATE),np.median(RTE))\n",
    "print('Mean ATE and RTE', np.mean(ATE),np.mean(RTE))\n",
    "print('STD ATE and RTE', np.std(ATE),np.std(RTE))"
   ]
  },
  {
   "cell_type": "markdown",
   "id": "eae0d983",
   "metadata": {},
   "source": [
    "Seen Trajectories"
   ]
  },
  {
   "cell_type": "code",
   "execution_count": null,
   "id": "581dc951",
   "metadata": {},
   "outputs": [],
   "source": [
    "ATE = []\n",
    "RTE = []\n",
    "ATE_dist = []\n",
    "RTE_dist = []\n",
    "for i in range(len(size_of_each_train)):\n",
    "    Pvx, Pvy = model_pos_generator(X_train, size_of_each_train, \n",
    "                   x0_list_train, y0_list_train, window_size, stride,i,model)   \n",
    "    Gvx, Gvy = GT_pos_generator(x_vel_train,y_vel_train,size_of_each_train,\n",
    "                                x0_list_train, y0_list_train, window_size, stride,i)\n",
    "    \n",
    "    at, rt, at_all, rt_all = Cal_TE(Gvx, Gvy, Pvx, Pvy,\n",
    "                                    sampling_rate=100,window_size=window_size,stride=stride)\n",
    "    ATE.append(at)\n",
    "    RTE.append(rt)\n",
    "    ATE_dist.append(Cal_len_meters(Gvx, Gvy))\n",
    "    RTE_dist.append(Cal_len_meters(Gvx, Gvy, 600))\n",
    "    print('ATE, RTE, Trajectory Length, Trajectory Length (60 seconds)',ATE[i],RTE[i],ATE_dist[i],RTE_dist[i])\n",
    "    \n",
    "print('Median ATE and RTE', np.median(ATE),np.median(RTE))\n",
    "print('Mean ATE and RTE', np.mean(ATE),np.mean(RTE))\n",
    "print('STD ATE and RTE', np.std(ATE),np.std(RTE))"
   ]
  },
  {
   "cell_type": "markdown",
   "id": "f9647c5d",
   "metadata": {},
   "source": [
    "Plot"
   ]
  },
  {
   "cell_type": "code",
   "execution_count": null,
   "id": "42514d35",
   "metadata": {},
   "outputs": [],
   "source": [
    "Pvx, Pvy = model_pos_generator(X_train, size_of_each_train, \n",
    "               x0_list_train, y0_list_train, window_size, stride,0,model)   \n",
    "Gvx, Gvy = GT_pos_generator(x_vel_train,y_vel_train,size_of_each_train,\n",
    "                            x0_list_train, y0_list_train, window_size, stride,0)"
   ]
  },
  {
   "cell_type": "code",
   "execution_count": null,
   "id": "28ed2380",
   "metadata": {},
   "outputs": [],
   "source": [
    "plt.plot(Gvx[0:2000],Gvy[0:2000])\n",
    "plt.plot(Pvx[0:2000],Pvy[0:2000])\n",
    "plt.xlim([-1.4,1.6])\n",
    "plt.ylim([-1.2,1.5])"
   ]
  },
  {
   "cell_type": "code",
   "execution_count": null,
   "id": "7e7174b8",
   "metadata": {},
   "outputs": [],
   "source": [
    "Cal_len_meters(Gvx[0:2250],Gvy[0:2250])"
   ]
  }
 ],
 "metadata": {
  "kernelspec": {
   "display_name": "Python 3 (ipykernel)",
   "language": "python",
   "name": "python3"
  },
  "language_info": {
   "codemirror_mode": {
    "name": "ipython",
    "version": 3
   },
   "file_extension": ".py",
   "mimetype": "text/x-python",
   "name": "python",
   "nbconvert_exporter": "python",
   "pygments_lexer": "ipython3",
   "version": "3.8.10"
  }
 },
 "nbformat": 4,
 "nbformat_minor": 5
}
